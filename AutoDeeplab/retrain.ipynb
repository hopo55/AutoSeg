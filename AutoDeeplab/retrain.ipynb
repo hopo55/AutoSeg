{
 "cells": [
  {
   "cell_type": "code",
   "execution_count": 1,
   "metadata": {},
   "outputs": [
    {
     "name": "stderr",
     "output_type": "stream",
     "text": [
      "/compuworks/anaconda3/envs/hspark/lib/python3.8/site-packages/tqdm/auto.py:21: TqdmWarning: IProgress not found. Please update jupyter and ipywidgets. See https://ipywidgets.readthedocs.io/en/stable/user_install.html\n",
      "  from .autonotebook import tqdm as notebook_tqdm\n"
     ]
    }
   ],
   "source": [
    "import torch\n",
    "from torchsummary import summary\n",
    "from modeling.deeplab import DeepLab # my_model.py 파일에서 MyModel 클래스를 가져옴"
   ]
  },
  {
   "cell_type": "code",
   "execution_count": 2,
   "metadata": {},
   "outputs": [
    {
     "ename": "AttributeError",
     "evalue": "'dict' object has no attribute 'key'",
     "output_type": "error",
     "traceback": [
      "\u001b[0;31m---------------------------------------------------------------------------\u001b[0m",
      "\u001b[0;31mAttributeError\u001b[0m                            Traceback (most recent call last)",
      "Cell \u001b[0;32mIn[2], line 7\u001b[0m\n\u001b[1;32m      4\u001b[0m \u001b[39m# state_dict 로드\u001b[39;00m\n\u001b[1;32m      5\u001b[0m state_dict \u001b[39m=\u001b[39m torch\u001b[39m.\u001b[39mload(\u001b[39m'\u001b[39m\u001b[39mrun/sealer/deeplab-resnet/experiment_10/checkpoint.pth.tar\u001b[39m\u001b[39m'\u001b[39m)\n\u001b[0;32m----> 7\u001b[0m \u001b[39mprint\u001b[39m(state_dict\u001b[39m.\u001b[39;49mkey)\n\u001b[1;32m      9\u001b[0m \u001b[39m# # state_dict를 모델에 적용\u001b[39;00m\n\u001b[1;32m     10\u001b[0m \u001b[39m# model.load_state_dict(state_dict)\u001b[39;00m\n\u001b[1;32m     11\u001b[0m \n\u001b[1;32m     12\u001b[0m \u001b[39m# # 모델 요약 출력. (input_size는 입력 데이터의 차원에 따라 변경되어야 함)\u001b[39;00m\n\u001b[1;32m     13\u001b[0m \u001b[39m# summary(model, input_size=(3, 128, 128))\u001b[39;00m\n",
      "\u001b[0;31mAttributeError\u001b[0m: 'dict' object has no attribute 'key'"
     ]
    }
   ],
   "source": [
    "\n",
    "# 모델의 구조를 먼저 정의\n",
    "model = DeepLab(backbone='mobilenet', output_stride=16)\n",
    "\n",
    "# state_dict 로드\n",
    "checkpoint = torch.load('run/sealer/deeplab-resnet/experiment_10/checkpoint.pth.tar')\n",
    "\n",
    "# # state_dict를 모델에 적용\n",
    "model.load_state_dict(checkpoint['state_dict'])\n",
    "\n",
    "# # 모델 요약 출력. (input_size는 입력 데이터의 차원에 따라 변경되어야 함)\n",
    "summary(model, input_size=(3, 128, 128))"
   ]
  }
 ],
 "metadata": {
  "kernelspec": {
   "display_name": "hspark",
   "language": "python",
   "name": "python3"
  },
  "language_info": {
   "codemirror_mode": {
    "name": "ipython",
    "version": 3
   },
   "file_extension": ".py",
   "mimetype": "text/x-python",
   "name": "python",
   "nbconvert_exporter": "python",
   "pygments_lexer": "ipython3",
   "version": "3.8.5"
  },
  "orig_nbformat": 4
 },
 "nbformat": 4,
 "nbformat_minor": 2
}
