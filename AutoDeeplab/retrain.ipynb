{
 "cells": [
  {
   "cell_type": "code",
   "execution_count": null,
   "metadata": {},
   "outputs": [],
   "source": [
    "import torch\n",
    "from torchsummary import summary\n",
    "from modeling.deeplab import DeepLab # my_model.py 파일에서 MyModel 클래스를 가져옴"
   ]
  },
  {
   "cell_type": "code",
   "execution_count": null,
   "metadata": {},
   "outputs": [],
   "source": [
    "\n",
    "# 모델의 구조를 먼저 정의\n",
    "model = DeepLab(backbone='mobilenet', output_stride=16)\n",
    "\n",
    "# state_dict 로드\n",
    "checkpoint = torch.load('run/sealer/deeplab-resnet/experiment_10/checkpoint.pth.tar')\n",
    "\n",
    "# # state_dict를 모델에 적용\n",
    "model.load_state_dict(checkpoint['state_dict'])\n",
    "\n",
    "# # 모델 요약 출력. (input_size는 입력 데이터의 차원에 따라 변경되어야 함)\n",
    "summary(model, input_size=(3, 128, 128))"
   ]
  }
 ],
 "metadata": {
  "kernelspec": {
   "display_name": "hspark",
   "language": "python",
   "name": "python3"
  },
  "language_info": {
   "codemirror_mode": {
    "name": "ipython",
    "version": 3
   },
   "file_extension": ".py",
   "mimetype": "text/x-python",
   "name": "python",
   "nbconvert_exporter": "python",
   "pygments_lexer": "ipython3",
   "version": "3.8.5"
  },
  "orig_nbformat": 4
 },
 "nbformat": 4,
 "nbformat_minor": 2
}
